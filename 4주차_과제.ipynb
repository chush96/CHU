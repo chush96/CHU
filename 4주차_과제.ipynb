{
  "nbformat": 4,
  "nbformat_minor": 0,
  "metadata": {
    "colab": {
      "name": "4주차 과제",
      "provenance": [],
      "collapsed_sections": [],
      "include_colab_link": true
    },
    "kernelspec": {
      "name": "python3",
      "display_name": "Python 3"
    }
  },
  "cells": [
    {
      "cell_type": "markdown",
      "metadata": {
        "id": "view-in-github",
        "colab_type": "text"
      },
      "source": [
        "<a href=\"https://colab.research.google.com/github/chush96/CHU/blob/master/4%EC%A3%BC%EC%B0%A8_%EA%B3%BC%EC%A0%9C.ipynb\" target=\"_parent\"><img src=\"https://colab.research.google.com/assets/colab-badge.svg\" alt=\"Open In Colab\"/></a>"
      ]
    },
    {
      "cell_type": "markdown",
      "metadata": {
        "id": "wxkL6PjwsI6L",
        "colab_type": "text"
      },
      "source": [
        "# 4주차 과제\n",
        "- 용어 정리\n",
        "- 딥러닝 강의 클론 코딩\n",
        "- 딥러닝 순전파 & 역전파 계산"
      ]
    },
    {
      "cell_type": "markdown",
      "metadata": {
        "id": "ixEtDe6_uGgI",
        "colab_type": "text"
      },
      "source": [
        "## 1. 용어 정리\n",
        "\n",
        "다음 제시된 단어의 정의(설명)를 정리하여 작성 하세요.\n",
        "\n",
        "* 2문장 이상 작성 해 주세요. \n",
        "* 주제(단어)와 크게 벗어나지만 않는다면 정답처리 됩니다.\n",
        "* 강의 뿐 아니라 기타 레퍼런스를 참고하여 작성하셔도 됩니다. (기타 레퍼런스를 참고하신 경우, 해당 레퍼런스를 정리하여 하단에 작성해 주세요.)\n"
      ]
    },
    {
      "cell_type": "markdown",
      "metadata": {
        "id": "0lfwat8eurKZ",
        "colab_type": "text"
      },
      "source": [
        "__(예시)__\n",
        "### 심층 신경망\n",
        ": 입력층과 출력층 사이에 여러 개의 은닉층들로 이뤄진 인공신경망이다. 심층 신경망은 일반적으로 인공신경망과 마찬가지로 복잡한 비선형 관계들을 모델링 할 수 있다. 신층신경망의 목적은 분류 및 수치예측을 하기 위함이고 이미지 트레이닝이나 문자인식과 같은 분야에서 매우 유용하게 쓰이고 있다."
      ]
    },
    {
      "cell_type": "markdown",
      "metadata": {
        "id": "Y8YJNKG_v65A",
        "colab_type": "text"
      },
      "source": [
        "### MCP 뉴런\n",
        ": 1943년 워랜 캑컬록과 월터피츠에 의해 뇌의 뉴런 개념을 발표하게 되었으며, 뇌의 신경세포와 서로 연결되어 있어 여러 신호가 수상돌기에 도착하면 세포 내에서 통합되고 통합된 신호가 임계값을 넘으면 축색돌기에서 전달될 화학적, 전기적 출력신호를 처리하고 전달하는데 관여하는 이런 신경신호를 이진 출력을 내는 간단한 논리 회로로 표현하였다\n",
        "\n",
        "참고문헌:파이썬 머신러닝(1),2020.06.11 https://minhobby.tistory.com/8   \n",
        "\n",
        "### 퍼셉트론\n",
        ": 1957년 프랭크 로젠 블렛은 MCP뉴런의 논리게이트의 모델 기반으로 퍼셉트론 학습 개념을 처음 발표하게 되었고 신경망의 기원이 되는 알고리즘이다. 실제 뇌를 구성하는 신경 세포 뉴런의 동작과 유사하며, 인공 신경망으로 다수의 입력으로부터 하나의 MCP 뉴런이 출력신호를 발생할지 안할지 결정하기위해, MCP 뉴런으로 들어오는 각 입력값에 곱해지는 가중치 값을 자동적으로 학습하고 하나의 결과를 내보는 알고리즘을 제안하게된다.\n",
        "\n",
        "참고문헌: 퍼셉트론 - Perceptron, 2020.06.15https://excelsior-cjh.tistory.com/169\n",
        "\n",
        "### 역전파\n",
        ": XOR 문제를 해결하기 위해 나온 해결책 중 하나이며, 뉴런의 가중치를 효율적으로 조정하기 위하여, 거꾸로 무엇인가를 전파하는 방식이며, 인공 신경망의 순전파 과정을 진행하여 출력값과 지도데이터 사이에 생기는 '오차'를 이용해 출력층에서 입력층 쪽으로 가중치를 조정하고 일정 횟수를 반복해 수정하는 방법이다.\n",
        "\n",
        "참고문헌: 역전파, 2020.06.15, http://wiki.hash.kr/index.php/%EC%97%AD%EC%A0%84%ED%8C%8C\n",
        "\n",
        "### 강화학습\n",
        ": 에어전트라는 존재가 환경과 상호작용하며, 이 환경에는 보상이라는 기준이 있어 다양한 시행착오를 겪어가며 보상을 최대화 하는 방향으로 보상을 최대화하고 다양한 시행착오를 통해 학습을 가능하게 하고 비교적 명확한 보상을 설정할 수 있는 문제를 해결하는데 사용되며 보상을 최대화하는 의사결정 전략, 순차적인 행동(MDP)들을 알아가는방법으로 설명한다.\n",
        "\n",
        "참고문헌: 강화학습 핵심 개념정리(1), 2020.06.15, http://www.secmem.org/blog/2019/12/15/RL-key-concepts/\n",
        "\n",
        "### 과적합\n",
        ": 학습이 너무 잘 되어서 학습 데이터에 대해서는 높은 정확도를 나타내지만 테스트 데이터나 실제 적용 시에는 성능이 떨어지고  과하게 학습하면 테스트 데이터나 실제 데이터에서의 데이터에 대해서는 정확도가 좋지 않는 현상이 발생하게 되어 오차가 감소하지만, 실제 데이터에 대해서는 오차가 증가하는 지점이 존재할 수 있다.\n",
        "\n",
        "참고문헌: [머싱러닝] - Overfitting(과적합), 2020.06.15,  https://untitledtblog.tistory.com/68\n",
        "\n",
        "### 차원의 저주\n",
        ": 고정된 크기의 훈련데이터셋 차원이 늘어남에 따라 데이터 양이 급격하게 증가하여 학습데이터 수가 차원의 수 보다 적어져 차원이 증가할 수록 개별 차원 내 학습할 데이터 수가 적어지고 특성공간이 점점희소해 지고 빈 공간이 생기는 것을 의미합니다. 이를 피하기 위해 올바른 변수의 선택, 학습데이터를 많이 획득하거나 차원을 줄이게 해주는 차원축소기법을 사용한다.\n",
        "\n",
        "참고문헌: [빅데이터] 차원의저주(The curese od dimensionality), 2020.06.15, https://datapedia.tistory.com/15"
      ]
    },
    {
      "cell_type": "markdown",
      "metadata": {
        "id": "d-zfFXLCy6jD",
        "colab_type": "text"
      },
      "source": [
        "## 2. 딥러닝 강의 클론 코딩\n",
        "\n",
        "####__퍼셉트론 구조 구현하기__ \n",
        "딥러닝 강의(__딥러닝 원리[1] 3:15 ~ 5:15 부분__)를 보고 코드를 따라 치며 출력 결과를 만드세요.\n",
        " \n",
        "\n",
        "* 하나의 코드셀에 해당 코드를 한번에 다 적어서 실행해주세요 (__그렇게 하지 않을 경우, 아래 이미지와 같은 출력값이 나오지 않을 수 있습니다__)\n",
        "\n",
        "*__주의!__ 실제로 코딩해서 출력해보면 강의에 나온 출력 결과와 다르게 나옵니다!!\n"
      ]
    },
    {
      "cell_type": "code",
      "metadata": {
        "id": "J0MgVHtlAPo3",
        "colab_type": "code",
        "outputId": "b730ab0f-7360-4c55-d9cd-bc84efe26cca",
        "colab": {
          "base_uri": "https://localhost:8080/",
          "height": 210
        }
      },
      "source": [
        "import tensorflow as tf\n",
        "tf.compat.v1.set_random_seed(2020)\n",
        "x = 1\n",
        "y = 0\n",
        "w = tf.random.normal([1],0,1) \n",
        "\n",
        "import math\n",
        "def sigmoid(x) :\n",
        "  return 1/(1 + math.exp(-x))\n",
        "\n",
        "output = sigmoid( x * w )\n",
        "print(output)\n",
        "\n",
        "for i in range(1000):\n",
        "  output = sigmoid(x*w)\n",
        "  error = y - output\n",
        "  w = w + x * 0.1 * error\n",
        "\n",
        "  if i % 100 == 99 :\n",
        "    print(\"학습횟수:\",i, \"Error:\",error, \"예측결과:\", output)"
      ],
      "execution_count": 0,
      "outputs": [
        {
          "output_type": "stream",
          "text": [
            "0.47477188589261\n",
            "학습횟수: 99 Error: -0.10010598284299604 예측결과: 0.10010598284299604\n",
            "학습횟수: 199 Error: -0.05178399422833116 예측결과: 0.05178399422833116\n",
            "학습횟수: 299 Error: -0.034590451977903586 예측결과: 0.034590451977903586\n",
            "학습횟수: 399 Error: -0.02588962752851373 예측결과: 0.02588962752851373\n",
            "학습횟수: 499 Error: -0.020658699939863617 예측결과: 0.020658699939863617\n",
            "학습횟수: 599 Error: -0.017174253993457355 예측결과: 0.017174253993457355\n",
            "학습횟수: 699 Error: -0.014689506449480992 예측결과: 0.014689506449480992\n",
            "학습횟수: 799 Error: -0.012829497265431342 예측결과: 0.012829497265431342\n",
            "학습횟수: 899 Error: -0.011385568271837804 예측결과: 0.011385568271837804\n",
            "학습횟수: 999 Error: -0.010232493309882492 예측결과: 0.010232493309882492\n"
          ],
          "name": "stdout"
        }
      ]
    },
    {
      "cell_type": "markdown",
      "metadata": {
        "id": "wcc5mzI9oZ7r",
        "colab_type": "text"
      },
      "source": [
        "![대체 텍스트](https://www.notion.so/image/https%3A%2F%2Fs3-us-west-2.amazonaws.com%2Fsecure.notion-static.com%2F0cceeed0-0235-4b0f-af88-0b8c377d5b4b%2F_2020-06-09__9.35.23.png?table=block&id=88fd8912-9356-49a4-9fda-a1a63fe96ea9&width=2870&cache=v2)"
      ]
    },
    {
      "cell_type": "markdown",
      "metadata": {
        "id": "kr0HVRk8fOom",
        "colab_type": "text"
      },
      "source": [
        "## 3. 딥러닝 순전파 & 역전파 계산\n",
        "\n",
        "딥러닝 강의(__딥러닝 원리[2] 0:55 ~ 4:32 부분__)에 나오는 순전파 & 역전파 계산에 대한 문제 입니다.\n",
        "\n",
        "해당 영상과 다음 이미지를 참고하여 다음 2가지 물음에 답하세요.\n",
        "\n",
        "\n",
        "(1) 학습률이 0.2 일 경우 출력층의 노드값\n",
        "\n",
        "(2) 학습률이 0.1과 0.2 중 기대출력값이 지도데이터 \"3\"과 더 가까운 학습률은?"
      ]
    },
    {
      "cell_type": "markdown",
      "metadata": {
        "id": "CpwPFWhOUzww",
        "colab_type": "text"
      },
      "source": [
        "![대체 텍스트](https://www.notion.so/image/https%3A%2F%2Fs3-us-west-2.amazonaws.com%2Fsecure.notion-static.com%2Ff54dfd45-92ec-44ae-9616-6949d2484a45%2F_2020-06-10__5.22.03.png?table=block&id=ee05da89-3ceb-4ad9-a2d3-c9f68d24d1d9&width=3580&cache=v2)"
      ]
    },
    {
      "cell_type": "markdown",
      "metadata": {
        "id": "B2OVY7w5U3CI",
        "colab_type": "text"
      },
      "source": [
        "## (1) 학습률이 0.2 일 경우 출력층의 노드값 : 1.6\n",
        "## (2) 학습률이 0.1과 0.2 중 기대출력값이 지도데이터 \"3\"과 더 가까운 학습률은? : 0.1"
      ]
    },
    {
      "cell_type": "code",
      "metadata": {
        "id": "BgavfvqiWxBU",
        "colab_type": "code",
        "colab": {}
      },
      "source": [
        ""
      ],
      "execution_count": 0,
      "outputs": []
    }
  ]
}