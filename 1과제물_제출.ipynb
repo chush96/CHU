{
  "nbformat": 4,
  "nbformat_minor": 0,
  "metadata": {
    "colab": {
      "name": "1과제물 제출",
      "provenance": [],
      "authorship_tag": "ABX9TyPai69xP/ooGxMa+JdEykkf",
      "include_colab_link": true
    },
    "kernelspec": {
      "name": "python3",
      "display_name": "Python 3"
    }
  },
  "cells": [
    {
      "cell_type": "markdown",
      "metadata": {
        "id": "view-in-github",
        "colab_type": "text"
      },
      "source": [
        "<a href=\"https://colab.research.google.com/github/chush96/CHU/blob/master/1%EA%B3%BC%EC%A0%9C%EB%AC%BC_%EC%A0%9C%EC%B6%9C.ipynb\" target=\"_parent\"><img src=\"https://colab.research.google.com/assets/colab-badge.svg\" alt=\"Open In Colab\"/></a>"
      ]
    },
    {
      "cell_type": "markdown",
      "metadata": {
        "id": "7wPGeExTGPzN",
        "colab_type": "text"
      },
      "source": [
        "#**인공지능 기술**\n",
        "\n",
        "##**<인공지능 기술분야>**\n",
        "\n",
        "*  언어\n",
        " * 타임케틀 동시통역 무선 이어폰 ' WT2'\n",
        " * 구글 'CCPE', '태스크 마스터 -1'\n",
        " * LG CNS '코쿼드 2.0'\n",
        " * 트래비스 양방향 통역기 'Touch Plus' \n",
        "\n",
        "* 음성\n",
        "  * AI스피커\n",
        "  * 벤츠 ' 엠비유엑스(MBUX)\n",
        "  * 애플 ' 시리(Siri)'\n",
        "  * 셀바스 AI '음성합성기술(Selyvy deppTTS)\n",
        "\n",
        "* 이미지\n",
        " * 엔트리퍼(Entrupy) - 명품을 실시간으로 판별\n",
        " * 비비노(Vivino) - 스마트폰으로 와인 라벨만 찍으면 가격과 평점, 어울리는 안주까지 추천\n",
        " * 장면 전환 검출, 기술과 장면 분류 ' 하이라이트 클립 생성 기술'\n",
        " * 공황에 있는 보안 검색대\n",
        "\n",
        "\n",
        "* 자율주행\n",
        " * AI자율주행자동차 'SCC-ML' , 'ADAS'\n",
        " * 토요타 '이(e)-팔레트'\n",
        " * 앤비디아 ' 드라이브PX'\n",
        " * V2X 자율주행"
      ]
    }
  ]
}